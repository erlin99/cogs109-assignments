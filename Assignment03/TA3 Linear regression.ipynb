{
 "cells": [
  {
   "cell_type": "markdown",
   "metadata": {},
   "source": [
    "# Technique Assignment 3: Linear regression\n",
    "## Cogs 109 Spring 2020\n",
    "### Student Name"
   ]
  },
  {
   "cell_type": "code",
   "execution_count": 1,
   "metadata": {},
   "outputs": [],
   "source": [
    "import matplotlib.pyplot as plt\n",
    "import numpy as np\n",
    "import pandas as pd\n",
    "%matplotlib inline"
   ]
  },
  {
   "cell_type": "markdown",
   "metadata": {},
   "source": [
    "## 1. (15 points) Datasets and variables\n",
    "\n",
    "Find a dataset from the [UCI machine learning repository](http://archive.ics.uci.edu/ml/index.php) that is suitable for linear regression. Provide a link to your chosen dataset and briefly describe its content.\n",
    "\n",
    "**(9)** List the following:\n",
    "* number of variables\n",
    "* number of samples\n",
    "* labels (what is the label?)\n",
    "\n",
    "**(6)** Create and report a research question that you could answer using this dataset and some or all of the variables."
   ]
  },
  {
   "cell_type": "markdown",
   "metadata": {},
   "source": [
    "Link: http://archive.ics.uci.edu/ml/datasets/Communities+and+Crime <br>\n",
    "This data set contains information about different communities across America. The information for each community is in some way connected to crime. The communities that were not found in census and crime datasets were omitted from the dataset. <br>\n",
    "- It is a dataset of 1994 samples (communities) \n",
    "- with 128 variables each (attributes of each community).<br>\n",
    "- The label is each community. <br>\n",
    "\n",
    "\n",
    "I think this dataset is can have a lot of different research questions. <br>\n",
    "First, we can see how each different attribute of the community affects the number of Violent Crimes per Capita. \n",
    "- ie. How the percentage of unemployed people affects crime\n",
    "- or how the police budget per capita affects crime\n",
    "\n",
    "We can also do multivariate regression on this dataset, where we can take two variables that may have dependency on each other like 'Police Budget per Capita' and number of 'Police Cars' and see how these can affect the 'Violent Crimes per Capita'."
   ]
  },
  {
   "cell_type": "markdown",
   "metadata": {},
   "source": [
    "## 2. (20) Arrays and numpy\n",
    "This tutorial should be very helpful:\n",
    "https://www.numpy.org/devdocs/user/quickstart.html\n",
    "### a. **(10)**\n",
    "Use arange() and reshape() from numpy to create a 4x5 array containing the integers 1 through 20.\n",
    "Append a column of ones to the left of your array to create a 4x6 array.\n",
    "Multiply every element of the array by 2.\n",
    "Print **only** the resulting array."
   ]
  },
  {
   "cell_type": "code",
   "execution_count": 2,
   "metadata": {},
   "outputs": [],
   "source": [
    "x = np.arange(1, 21).reshape(4, 5)\n",
    "ones = np.ones(4, dtype=int)"
   ]
  },
  {
   "cell_type": "code",
   "execution_count": 3,
   "metadata": {},
   "outputs": [
    {
     "data": {
      "text/plain": [
       "array([[ 2,  2,  4,  6,  8, 10],\n",
       "       [ 2, 12, 14, 16, 18, 20],\n",
       "       [ 2, 22, 24, 26, 28, 30],\n",
       "       [ 2, 32, 34, 36, 38, 40]])"
      ]
     },
     "execution_count": 3,
     "metadata": {},
     "output_type": "execute_result"
    }
   ],
   "source": [
    "combined = np.vstack([ones, x.T]).T\n",
    "combined * 2"
   ]
  },
  {
   "cell_type": "markdown",
   "metadata": {},
   "source": [
    "### b. (10)\n",
    "Use linspace() and reshape() to create a 20 x 20 array that contains a smooth range of values between 0 and 1, inclusive.\n",
    "\n",
    "Create a scatter plot using the first (leftmost) column of your array as the x values and the last (rightmost) column of your array as the y values. Use x limits 0 and 1 and y limits 0 and 1 for your plot."
   ]
  },
  {
   "cell_type": "code",
   "execution_count": 4,
   "metadata": {},
   "outputs": [],
   "source": [
    "data = np.linspace(0, 1, 20*20).reshape(20,20)"
   ]
  },
  {
   "cell_type": "code",
   "execution_count": 5,
   "metadata": {},
   "outputs": [],
   "source": [
    "x = data.T[0]\n",
    "y = data.T[19]"
   ]
  },
  {
   "cell_type": "code",
   "execution_count": 6,
   "metadata": {},
   "outputs": [
    {
     "data": {
      "text/plain": [
       "<matplotlib.collections.PathCollection at 0x12370c7d0>"
      ]
     },
     "execution_count": 6,
     "metadata": {},
     "output_type": "execute_result"
    },
    {
     "data": {
      "image/png": "[encoded data removed]",
      "text/plain": [
       "<Figure size 432x288 with 1 Axes>"
      ]
     },
     "metadata": {
      "needs_background": "light"
     },
     "output_type": "display_data"
    }
   ],
   "source": [
    "plt.scatter(x, y)"
   ]
  },
  {
   "cell_type": "markdown",
   "metadata": {},
   "source": [
    "## 3. (40 points) Univariate linear regression\n",
    "\n",
    "*Note: Solutions to this problem must follow the method described in class and the linear regression handout. There is some flexibility in how your solution is coded, but you may not use special functions that automatically perform linear regression for you.*\n",
    "\n",
    "Load in the BodyBrainWeight.csv dataset. Perform linear regression using two different models:\n",
    "\n",
    "M1: brain_weight = w0 + w1 x body_weight\n",
    "\n",
    "M2: brain_weight = w0 + w1 x body_weight + w2 x body_weight^2\n",
    "\n",
    "### a. **(15)**\n",
    "For each model, follow the steps shown in class to solve for w. Report the model, including w values and variable names for both models.\n",
    "\n",
    "\n",
    "### b. **(10)**\n",
    "Use subplots to display two graphs, one for each model. In each graph, include:\n",
    "* Labeled x and y axes\n",
    "* Title\n",
    "* Scatterplot of the dataset\n",
    "* A smooth line representing the model\n",
    "\n",
    "### c. **(10)**\n",
    "For each model, calculate the sum squared error (SSE). Show your 2 SSE values together in a bar plot.\n",
    "\n",
    "### d. **(5)**\n",
    "Which model do you think is better? Why? Is there a different model that you think would better represent the data?"
   ]
  },
  {
   "cell_type": "markdown",
   "metadata": {},
   "source": [
    "### Part a: Models"
   ]
  },
  {
   "cell_type": "code",
   "execution_count": 7,
   "metadata": {},
   "outputs": [],
   "source": [
    "## Load the dataset and extract Body weight as X and Brain weight as Y\n",
    "bbdata = pd.read_csv(\"BodyBrainWeight.csv\").values"
   ]
  },
  {
   "cell_type": "code",
   "execution_count": 8,
   "metadata": {},
   "outputs": [],
   "source": [
    "X = bbdata[:,0] # body weight\n",
    "Y = bbdata[:,1] # brain weight"
   ]
  },
  {
   "cell_type": "code",
   "execution_count": 9,
   "metadata": {},
   "outputs": [
    {
     "name": "stdout",
     "output_type": "stream",
     "text": [
      "Model M1:\n",
      "Brain weight = 124.928105 + 0.937039 x Body_Weight\n"
     ]
    }
   ],
   "source": [
    "## Create A, the augmented data array\n",
    "ones = np.ones(X.size)\n",
    "\n",
    "A1 = np.vstack([ones, X]).T\n",
    "\n",
    "## Solve for w, the weight vector\n",
    "w1 = np.linalg.lstsq(A1, Y, rcond = None)[0]\n",
    "\n",
    "print(\"Model M1:\")\n",
    "print(\"Brain weight = %f + %f x Body_Weight\" % tuple(w1))"
   ]
  },
  {
   "cell_type": "code",
   "execution_count": 10,
   "metadata": {},
   "outputs": [
    {
     "name": "stdout",
     "output_type": "stream",
     "text": [
      "Model M2:\n",
      "Brain weight = 49.091369 + 1.590462 x Body_Weight + -0.000109 x Body_Weight^2\n"
     ]
    }
   ],
   "source": [
    "## Create A, the augmented data array\n",
    "\n",
    "ones = np.ones(X.size)\n",
    "squares = np.square(X)\n",
    "\n",
    "A2 = np.vstack([ones, X, squares]).T\n",
    "\n",
    "## Solve for w, the weight vector\n",
    "w2 = np.linalg.lstsq(A2, Y, rcond = None)[0]\n",
    "\n",
    "print(\"Model M2:\")\n",
    "print(\"Brain weight = %f + %f x Body_Weight + %f x Body_Weight^2\" % tuple(w2))"
   ]
  },
  {
   "cell_type": "markdown",
   "metadata": {},
   "source": [
    "### Part b: Plotting"
   ]
  },
  {
   "cell_type": "code",
   "execution_count": 11,
   "metadata": {},
   "outputs": [
    {
     "data": {
      "text/plain": [
       "[<matplotlib.lines.Line2D at 0x1238f5e50>]"
      ]
     },
     "execution_count": 11,
     "metadata": {},
     "output_type": "execute_result"
    },
    {
     "data": {
      "image/png": "[encoded data removed]",
      "text/plain": [
       "<Figure size 720x504 with 2 Axes>"
      ]
     },
     "metadata": {
      "needs_background": "light"
     },
     "output_type": "display_data"
    }
   ],
   "source": [
    "fig, axes = plt.subplots(1,2, figsize=(10,7))\n",
    "fig.tight_layout(pad=4.0)\n",
    "\n",
    "# set names for model 1 \n",
    "axes[0].set_title('Model 1')\n",
    "axes[0].set_xlabel(\"Body Weight\")\n",
    "axes[0].set_ylabel(\"Brain Weight\")\n",
    "\n",
    "# set names for model 2\n",
    "axes[1].set_title('Model 2')\n",
    "axes[1].set_xlabel(\"Body Weight\")\n",
    "axes[1].set_ylabel(\"Brain Weight\")\n",
    "\n",
    "# scatter plots \n",
    "axes[0].scatter(X, Y)\n",
    "axes[1].scatter(X, Y)\n",
    "\n",
    "# line for Model 1\n",
    "x1 = np.linspace(-100, 7000, X.size)\n",
    "A1 = np.vstack([ones, x1]).T\n",
    "y1 = np.matmul(A1, w1)\n",
    "axes[0].plot(x1, y1, color = 'red')\n",
    "\n",
    "# line for Model 2\n",
    "x2 = np.linspace(-100, 7000, X.size)\n",
    "squares = np.square(x2)\n",
    "A2 = np.vstack([ones, x2, squares]).T\n",
    "y2 = np.matmul(A2, w2)\n",
    "axes[1].plot(x2, y2, color = 'red')"
   ]
  },
  {
   "cell_type": "markdown",
   "metadata": {},
   "source": [
    "### Part c: SSE"
   ]
  },
  {
   "cell_type": "code",
   "execution_count": 12,
   "metadata": {},
   "outputs": [],
   "source": [
    "# function that calculates the SSE of the data given\n",
    "def SSE(actual, predicted):\n",
    "    return np.sum(np.square(predicted - actual))"
   ]
  },
  {
   "cell_type": "code",
   "execution_count": 13,
   "metadata": {},
   "outputs": [],
   "source": [
    "actual = Y\n",
    "ones = np.ones(X.size)\n",
    "squares = np.square(X)"
   ]
  },
  {
   "cell_type": "code",
   "execution_count": 14,
   "metadata": {},
   "outputs": [],
   "source": [
    "# Model 1 SSE\n",
    "A = np.vstack([ones, X]).T\n",
    "predicted = np.matmul(A, w1)\n",
    "\n",
    "SSE1 = SSE(actual, predicted)"
   ]
  },
  {
   "cell_type": "code",
   "execution_count": 15,
   "metadata": {},
   "outputs": [],
   "source": [
    "# Model 2 SSE\n",
    "A = np.vstack([ones, X, squares]).T\n",
    "predicted = np.matmul(A, w2)\n",
    "\n",
    "SSE2 = SSE(actual, predicted)"
   ]
  },
  {
   "cell_type": "code",
   "execution_count": 16,
   "metadata": {},
   "outputs": [
    {
     "data": {
      "text/plain": [
       "<BarContainer object of 2 artists>"
      ]
     },
     "execution_count": 16,
     "metadata": {},
     "output_type": "execute_result"
    },
    {
     "data": {
      "image/png": "[encoded data removed]",
      "text/plain": [
       "<Figure size 432x288 with 1 Axes>"
      ]
     },
     "metadata": {
      "needs_background": "light"
     },
     "output_type": "display_data"
    }
   ],
   "source": [
    "plt.bar(['Model 1 SSE', 'Model 2 SSE'], [SSE1, SSE2], width=0.5)"
   ]
  },
  {
   "cell_type": "markdown",
   "metadata": {},
   "source": [
    "### Part d: Conclusion\n",
    "\n",
    "- Model 2\n",
    "- Because it has considerably lower SSE and it follows the pattern well without overfitting. \n",
    "- No, I think that higher order models will start overffiting the data."
   ]
  },
  {
   "cell_type": "markdown",
   "metadata": {},
   "source": [
    "## 4. (25 points) Multivariate linear regression with cross validation\n",
    "\n",
    "Using the dataset found in Housing.csv, build a multivariate model to predict house price using lot size and the number of bedrooms as predictors.\n",
    "\n",
    "Hint: You may use this as your model:\n",
    "\n",
    "Price = w0 + w1 x Lot size + w2 x Bedrooms\n",
    "\n",
    "First, split your data into a training set (80%) and a test set (20%). Then perform linear regression using the **training data** only. Report your model and show the mean squared error (MSE) for your **training** and **test** data using a bar graph.\n",
    "\n",
    "MSE can be found by dividing SSE by the number of samples in your data.\n"
   ]
  },
  {
   "cell_type": "code",
   "execution_count": 17,
   "metadata": {},
   "outputs": [
    {
     "data": {
      "text/html": [
       "<div>\n",
       "<style scoped>\n",
       "    .dataframe tbody tr th:only-of-type {\n",
       "        vertical-align: middle;\n",
       "    }\n",
       "\n",
       "    .dataframe tbody tr th {\n",
       "        vertical-align: top;\n",
       "    }\n",
       "\n",
       "    .dataframe thead th {\n",
       "        text-align: right;\n",
       "    }\n",
       "</style>\n",
       "<table border=\"1\" class=\"dataframe\">\n",
       "  <thead>\n",
       "    <tr style=\"text-align: right;\">\n",
       "      <th></th>\n",
       "      <th>Unnamed: 0</th>\n",
       "      <th>price</th>\n",
       "      <th>lotsize</th>\n",
       "      <th>bedrooms</th>\n",
       "      <th>bathrms</th>\n",
       "      <th>stories</th>\n",
       "      <th>driveway</th>\n",
       "      <th>recroom</th>\n",
       "      <th>fullbase</th>\n",
       "      <th>gashw</th>\n",
       "      <th>airco</th>\n",
       "      <th>garagepl</th>\n",
       "      <th>prefarea</th>\n",
       "    </tr>\n",
       "  </thead>\n",
       "  <tbody>\n",
       "    <tr>\n",
       "      <td>0</td>\n",
       "      <td>1</td>\n",
       "      <td>42000.0</td>\n",
       "      <td>5850</td>\n",
       "      <td>3</td>\n",
       "      <td>1</td>\n",
       "      <td>2</td>\n",
       "      <td>yes</td>\n",
       "      <td>no</td>\n",
       "      <td>yes</td>\n",
       "      <td>no</td>\n",
       "      <td>no</td>\n",
       "      <td>1</td>\n",
       "      <td>no</td>\n",
       "    </tr>\n",
       "    <tr>\n",
       "      <td>1</td>\n",
       "      <td>2</td>\n",
       "      <td>38500.0</td>\n",
       "      <td>4000</td>\n",
       "      <td>2</td>\n",
       "      <td>1</td>\n",
       "      <td>1</td>\n",
       "      <td>yes</td>\n",
       "      <td>no</td>\n",
       "      <td>no</td>\n",
       "      <td>no</td>\n",
       "      <td>no</td>\n",
       "      <td>0</td>\n",
       "      <td>no</td>\n",
       "    </tr>\n",
       "    <tr>\n",
       "      <td>2</td>\n",
       "      <td>3</td>\n",
       "      <td>49500.0</td>\n",
       "      <td>3060</td>\n",
       "      <td>3</td>\n",
       "      <td>1</td>\n",
       "      <td>1</td>\n",
       "      <td>yes</td>\n",
       "      <td>no</td>\n",
       "      <td>no</td>\n",
       "      <td>no</td>\n",
       "      <td>no</td>\n",
       "      <td>0</td>\n",
       "      <td>no</td>\n",
       "    </tr>\n",
       "    <tr>\n",
       "      <td>3</td>\n",
       "      <td>4</td>\n",
       "      <td>60500.0</td>\n",
       "      <td>6650</td>\n",
       "      <td>3</td>\n",
       "      <td>1</td>\n",
       "      <td>2</td>\n",
       "      <td>yes</td>\n",
       "      <td>yes</td>\n",
       "      <td>no</td>\n",
       "      <td>no</td>\n",
       "      <td>no</td>\n",
       "      <td>0</td>\n",
       "      <td>no</td>\n",
       "    </tr>\n",
       "    <tr>\n",
       "      <td>4</td>\n",
       "      <td>5</td>\n",
       "      <td>61000.0</td>\n",
       "      <td>6360</td>\n",
       "      <td>2</td>\n",
       "      <td>1</td>\n",
       "      <td>1</td>\n",
       "      <td>yes</td>\n",
       "      <td>no</td>\n",
       "      <td>no</td>\n",
       "      <td>no</td>\n",
       "      <td>no</td>\n",
       "      <td>0</td>\n",
       "      <td>no</td>\n",
       "    </tr>\n",
       "    <tr>\n",
       "      <td>...</td>\n",
       "      <td>...</td>\n",
       "      <td>...</td>\n",
       "      <td>...</td>\n",
       "      <td>...</td>\n",
       "      <td>...</td>\n",
       "      <td>...</td>\n",
       "      <td>...</td>\n",
       "      <td>...</td>\n",
       "      <td>...</td>\n",
       "      <td>...</td>\n",
       "      <td>...</td>\n",
       "      <td>...</td>\n",
       "      <td>...</td>\n",
       "    </tr>\n",
       "    <tr>\n",
       "      <td>541</td>\n",
       "      <td>542</td>\n",
       "      <td>91500.0</td>\n",
       "      <td>4800</td>\n",
       "      <td>3</td>\n",
       "      <td>2</td>\n",
       "      <td>4</td>\n",
       "      <td>yes</td>\n",
       "      <td>yes</td>\n",
       "      <td>no</td>\n",
       "      <td>no</td>\n",
       "      <td>yes</td>\n",
       "      <td>0</td>\n",
       "      <td>no</td>\n",
       "    </tr>\n",
       "    <tr>\n",
       "      <td>542</td>\n",
       "      <td>543</td>\n",
       "      <td>94000.0</td>\n",
       "      <td>6000</td>\n",
       "      <td>3</td>\n",
       "      <td>2</td>\n",
       "      <td>4</td>\n",
       "      <td>yes</td>\n",
       "      <td>no</td>\n",
       "      <td>no</td>\n",
       "      <td>no</td>\n",
       "      <td>yes</td>\n",
       "      <td>0</td>\n",
       "      <td>no</td>\n",
       "    </tr>\n",
       "    <tr>\n",
       "      <td>543</td>\n",
       "      <td>544</td>\n",
       "      <td>103000.0</td>\n",
       "      <td>6000</td>\n",
       "      <td>3</td>\n",
       "      <td>2</td>\n",
       "      <td>4</td>\n",
       "      <td>yes</td>\n",
       "      <td>yes</td>\n",
       "      <td>no</td>\n",
       "      <td>no</td>\n",
       "      <td>yes</td>\n",
       "      <td>1</td>\n",
       "      <td>no</td>\n",
       "    </tr>\n",
       "    <tr>\n",
       "      <td>544</td>\n",
       "      <td>545</td>\n",
       "      <td>105000.0</td>\n",
       "      <td>6000</td>\n",
       "      <td>3</td>\n",
       "      <td>2</td>\n",
       "      <td>2</td>\n",
       "      <td>yes</td>\n",
       "      <td>yes</td>\n",
       "      <td>no</td>\n",
       "      <td>no</td>\n",
       "      <td>yes</td>\n",
       "      <td>1</td>\n",
       "      <td>no</td>\n",
       "    </tr>\n",
       "    <tr>\n",
       "      <td>545</td>\n",
       "      <td>546</td>\n",
       "      <td>105000.0</td>\n",
       "      <td>6000</td>\n",
       "      <td>3</td>\n",
       "      <td>1</td>\n",
       "      <td>2</td>\n",
       "      <td>yes</td>\n",
       "      <td>no</td>\n",
       "      <td>no</td>\n",
       "      <td>no</td>\n",
       "      <td>yes</td>\n",
       "      <td>1</td>\n",
       "      <td>no</td>\n",
       "    </tr>\n",
       "  </tbody>\n",
       "</table>\n",
       "<p>546 rows × 13 columns</p>\n",
       "</div>"
      ],
      "text/plain": [
       "     Unnamed: 0     price  lotsize  bedrooms  bathrms  stories driveway  \\\n",
       "0             1   42000.0     5850         3        1        2      yes   \n",
       "1             2   38500.0     4000         2        1        1      yes   \n",
       "2             3   49500.0     3060         3        1        1      yes   \n",
       "3             4   60500.0     6650         3        1        2      yes   \n",
       "4             5   61000.0     6360         2        1        1      yes   \n",
       "..          ...       ...      ...       ...      ...      ...      ...   \n",
       "541         542   91500.0     4800         3        2        4      yes   \n",
       "542         543   94000.0     6000         3        2        4      yes   \n",
       "543         544  103000.0     6000         3        2        4      yes   \n",
       "544         545  105000.0     6000         3        2        2      yes   \n",
       "545         546  105000.0     6000         3        1        2      yes   \n",
       "\n",
       "    recroom fullbase gashw airco  garagepl prefarea  \n",
       "0        no      yes    no    no         1       no  \n",
       "1        no       no    no    no         0       no  \n",
       "2        no       no    no    no         0       no  \n",
       "3       yes       no    no    no         0       no  \n",
       "4        no       no    no    no         0       no  \n",
       "..      ...      ...   ...   ...       ...      ...  \n",
       "541     yes       no    no   yes         0       no  \n",
       "542      no       no    no   yes         0       no  \n",
       "543     yes       no    no   yes         1       no  \n",
       "544     yes       no    no   yes         1       no  \n",
       "545      no       no    no   yes         1       no  \n",
       "\n",
       "[546 rows x 13 columns]"
      ]
     },
     "execution_count": 17,
     "metadata": {},
     "output_type": "execute_result"
    }
   ],
   "source": [
    "## Load the housing data\n",
    "df = pd.read_csv(\"Housing.csv\")\n",
    "df"
   ]
  },
  {
   "cell_type": "code",
   "execution_count": 18,
   "metadata": {},
   "outputs": [
    {
     "data": {
      "text/html": [
       "<div>\n",
       "<style scoped>\n",
       "    .dataframe tbody tr th:only-of-type {\n",
       "        vertical-align: middle;\n",
       "    }\n",
       "\n",
       "    .dataframe tbody tr th {\n",
       "        vertical-align: top;\n",
       "    }\n",
       "\n",
       "    .dataframe thead th {\n",
       "        text-align: right;\n",
       "    }\n",
       "</style>\n",
       "<table border=\"1\" class=\"dataframe\">\n",
       "  <thead>\n",
       "    <tr style=\"text-align: right;\">\n",
       "      <th></th>\n",
       "      <th>Unnamed: 0</th>\n",
       "      <th>price</th>\n",
       "      <th>lotsize</th>\n",
       "      <th>bedrooms</th>\n",
       "      <th>bathrms</th>\n",
       "      <th>stories</th>\n",
       "      <th>driveway</th>\n",
       "      <th>recroom</th>\n",
       "      <th>fullbase</th>\n",
       "      <th>gashw</th>\n",
       "      <th>airco</th>\n",
       "      <th>garagepl</th>\n",
       "      <th>prefarea</th>\n",
       "    </tr>\n",
       "  </thead>\n",
       "  <tbody>\n",
       "    <tr>\n",
       "      <td>436</td>\n",
       "      <td>437</td>\n",
       "      <td>132000.0</td>\n",
       "      <td>7800</td>\n",
       "      <td>3</td>\n",
       "      <td>2</td>\n",
       "      <td>2</td>\n",
       "      <td>yes</td>\n",
       "      <td>no</td>\n",
       "      <td>no</td>\n",
       "      <td>no</td>\n",
       "      <td>no</td>\n",
       "      <td>0</td>\n",
       "      <td>yes</td>\n",
       "    </tr>\n",
       "    <tr>\n",
       "      <td>411</td>\n",
       "      <td>412</td>\n",
       "      <td>95000.0</td>\n",
       "      <td>6500</td>\n",
       "      <td>3</td>\n",
       "      <td>2</td>\n",
       "      <td>3</td>\n",
       "      <td>yes</td>\n",
       "      <td>no</td>\n",
       "      <td>no</td>\n",
       "      <td>no</td>\n",
       "      <td>yes</td>\n",
       "      <td>0</td>\n",
       "      <td>yes</td>\n",
       "    </tr>\n",
       "    <tr>\n",
       "      <td>274</td>\n",
       "      <td>275</td>\n",
       "      <td>65000.0</td>\n",
       "      <td>3640</td>\n",
       "      <td>3</td>\n",
       "      <td>1</td>\n",
       "      <td>2</td>\n",
       "      <td>yes</td>\n",
       "      <td>no</td>\n",
       "      <td>no</td>\n",
       "      <td>no</td>\n",
       "      <td>yes</td>\n",
       "      <td>0</td>\n",
       "      <td>no</td>\n",
       "    </tr>\n",
       "    <tr>\n",
       "      <td>10</td>\n",
       "      <td>11</td>\n",
       "      <td>90000.0</td>\n",
       "      <td>7200</td>\n",
       "      <td>3</td>\n",
       "      <td>2</td>\n",
       "      <td>1</td>\n",
       "      <td>yes</td>\n",
       "      <td>no</td>\n",
       "      <td>yes</td>\n",
       "      <td>no</td>\n",
       "      <td>yes</td>\n",
       "      <td>3</td>\n",
       "      <td>no</td>\n",
       "    </tr>\n",
       "    <tr>\n",
       "      <td>359</td>\n",
       "      <td>360</td>\n",
       "      <td>107000.0</td>\n",
       "      <td>6600</td>\n",
       "      <td>3</td>\n",
       "      <td>1</td>\n",
       "      <td>4</td>\n",
       "      <td>yes</td>\n",
       "      <td>no</td>\n",
       "      <td>no</td>\n",
       "      <td>no</td>\n",
       "      <td>yes</td>\n",
       "      <td>3</td>\n",
       "      <td>yes</td>\n",
       "    </tr>\n",
       "    <tr>\n",
       "      <td>...</td>\n",
       "      <td>...</td>\n",
       "      <td>...</td>\n",
       "      <td>...</td>\n",
       "      <td>...</td>\n",
       "      <td>...</td>\n",
       "      <td>...</td>\n",
       "      <td>...</td>\n",
       "      <td>...</td>\n",
       "      <td>...</td>\n",
       "      <td>...</td>\n",
       "      <td>...</td>\n",
       "      <td>...</td>\n",
       "      <td>...</td>\n",
       "    </tr>\n",
       "    <tr>\n",
       "      <td>448</td>\n",
       "      <td>449</td>\n",
       "      <td>58000.0</td>\n",
       "      <td>4320</td>\n",
       "      <td>3</td>\n",
       "      <td>1</td>\n",
       "      <td>2</td>\n",
       "      <td>yes</td>\n",
       "      <td>no</td>\n",
       "      <td>no</td>\n",
       "      <td>no</td>\n",
       "      <td>no</td>\n",
       "      <td>2</td>\n",
       "      <td>yes</td>\n",
       "    </tr>\n",
       "    <tr>\n",
       "      <td>446</td>\n",
       "      <td>447</td>\n",
       "      <td>114900.0</td>\n",
       "      <td>7482</td>\n",
       "      <td>3</td>\n",
       "      <td>2</td>\n",
       "      <td>3</td>\n",
       "      <td>yes</td>\n",
       "      <td>no</td>\n",
       "      <td>no</td>\n",
       "      <td>yes</td>\n",
       "      <td>no</td>\n",
       "      <td>1</td>\n",
       "      <td>yes</td>\n",
       "    </tr>\n",
       "    <tr>\n",
       "      <td>46</td>\n",
       "      <td>47</td>\n",
       "      <td>41000.0</td>\n",
       "      <td>3040</td>\n",
       "      <td>2</td>\n",
       "      <td>1</td>\n",
       "      <td>1</td>\n",
       "      <td>no</td>\n",
       "      <td>no</td>\n",
       "      <td>no</td>\n",
       "      <td>no</td>\n",
       "      <td>no</td>\n",
       "      <td>0</td>\n",
       "      <td>no</td>\n",
       "    </tr>\n",
       "    <tr>\n",
       "      <td>513</td>\n",
       "      <td>514</td>\n",
       "      <td>66000.0</td>\n",
       "      <td>5010</td>\n",
       "      <td>3</td>\n",
       "      <td>1</td>\n",
       "      <td>2</td>\n",
       "      <td>yes</td>\n",
       "      <td>no</td>\n",
       "      <td>yes</td>\n",
       "      <td>no</td>\n",
       "      <td>no</td>\n",
       "      <td>0</td>\n",
       "      <td>no</td>\n",
       "    </tr>\n",
       "    <tr>\n",
       "      <td>466</td>\n",
       "      <td>467</td>\n",
       "      <td>54000.0</td>\n",
       "      <td>2856</td>\n",
       "      <td>3</td>\n",
       "      <td>1</td>\n",
       "      <td>3</td>\n",
       "      <td>yes</td>\n",
       "      <td>no</td>\n",
       "      <td>no</td>\n",
       "      <td>no</td>\n",
       "      <td>no</td>\n",
       "      <td>0</td>\n",
       "      <td>yes</td>\n",
       "    </tr>\n",
       "  </tbody>\n",
       "</table>\n",
       "<p>546 rows × 13 columns</p>\n",
       "</div>"
      ],
      "text/plain": [
       "     Unnamed: 0     price  lotsize  bedrooms  bathrms  stories driveway  \\\n",
       "436         437  132000.0     7800         3        2        2      yes   \n",
       "411         412   95000.0     6500         3        2        3      yes   \n",
       "274         275   65000.0     3640         3        1        2      yes   \n",
       "10           11   90000.0     7200         3        2        1      yes   \n",
       "359         360  107000.0     6600         3        1        4      yes   \n",
       "..          ...       ...      ...       ...      ...      ...      ...   \n",
       "448         449   58000.0     4320         3        1        2      yes   \n",
       "446         447  114900.0     7482         3        2        3      yes   \n",
       "46           47   41000.0     3040         2        1        1       no   \n",
       "513         514   66000.0     5010         3        1        2      yes   \n",
       "466         467   54000.0     2856         3        1        3      yes   \n",
       "\n",
       "    recroom fullbase gashw airco  garagepl prefarea  \n",
       "436      no       no    no    no         0      yes  \n",
       "411      no       no    no   yes         0      yes  \n",
       "274      no       no    no   yes         0       no  \n",
       "10       no      yes    no   yes         3       no  \n",
       "359      no       no    no   yes         3      yes  \n",
       "..      ...      ...   ...   ...       ...      ...  \n",
       "448      no       no    no    no         2      yes  \n",
       "446      no       no   yes    no         1      yes  \n",
       "46       no       no    no    no         0       no  \n",
       "513      no      yes    no    no         0       no  \n",
       "466      no       no    no    no         0      yes  \n",
       "\n",
       "[546 rows x 13 columns]"
      ]
     },
     "execution_count": 18,
     "metadata": {},
     "output_type": "execute_result"
    }
   ],
   "source": [
    "df = df.sample(frac=1, replace=False) # shuffle the data \n",
    "df"
   ]
  },
  {
   "cell_type": "code",
   "execution_count": 19,
   "metadata": {},
   "outputs": [],
   "source": [
    "# Extract the variables\n",
    "Y = df['price'].values\n",
    "X1 = df['lotsize'].values\n",
    "X2 = df['bedrooms'].values"
   ]
  },
  {
   "cell_type": "code",
   "execution_count": 20,
   "metadata": {},
   "outputs": [],
   "source": [
    "# Get training data, 109 being the 20% cut \n",
    "Y_train = Y[109:]\n",
    "X1_train = X1[109:]\n",
    "X2_train = X2[109:]"
   ]
  },
  {
   "cell_type": "code",
   "execution_count": 21,
   "metadata": {},
   "outputs": [],
   "source": [
    "# Create A, augmented array \n",
    "ones = np.ones(X1_train.size)\n",
    "\n",
    "A_train = np.vstack([ones, X1_train, X2_train]).T\n",
    "\n",
    "# Calculate weights\n",
    "w = np.linalg.lstsq(A_train, Y_train, rcond = None)[0]"
   ]
  },
  {
   "cell_type": "code",
   "execution_count": 22,
   "metadata": {},
   "outputs": [
    {
     "name": "stdout",
     "output_type": "stream",
     "text": [
      "Model\n",
      "Price = 10034.714003 + 5.723109 x Lot size + 9730.460411 x Bedrooms\n"
     ]
    }
   ],
   "source": [
    "print(\"Model\")\n",
    "print(\"Price = %f + %f x Lot size + %f x Bedrooms\" % tuple(w))"
   ]
  },
  {
   "cell_type": "code",
   "execution_count": 23,
   "metadata": {},
   "outputs": [
    {
     "data": {
      "text/plain": [
       "469465647.92941946"
      ]
     },
     "execution_count": 23,
     "metadata": {},
     "output_type": "execute_result"
    }
   ],
   "source": [
    "# MSE for training data\n",
    "predicted = np.matmul(A_train, w)\n",
    "MSE_train = SSE(Y_train, predicted) / predicted.size\n",
    "MSE_train"
   ]
  },
  {
   "cell_type": "code",
   "execution_count": 24,
   "metadata": {},
   "outputs": [],
   "source": [
    "# MSE on test data \n",
    "Y_test = Y[:109]\n",
    "X1_test = X1[:109]\n",
    "X2_test = X2[:109]\n",
    "\n",
    "ones = np.ones(Y_test.size)"
   ]
  },
  {
   "cell_type": "code",
   "execution_count": 25,
   "metadata": {},
   "outputs": [],
   "source": [
    "A_test = np.vstack([ones, X1_test, X2_test]).T"
   ]
  },
  {
   "cell_type": "code",
   "execution_count": 26,
   "metadata": {},
   "outputs": [
    {
     "data": {
      "text/plain": [
       "368347640.0698275"
      ]
     },
     "execution_count": 26,
     "metadata": {},
     "output_type": "execute_result"
    }
   ],
   "source": [
    "predicted = np.matmul(A_test, w)\n",
    "MSE_test = SSE(Y_test, predicted) / predicted.size\n",
    "MSE_test"
   ]
  },
  {
   "cell_type": "code",
   "execution_count": 27,
   "metadata": {},
   "outputs": [
    {
     "data": {
      "text/plain": [
       "<BarContainer object of 2 artists>"
      ]
     },
     "execution_count": 27,
     "metadata": {},
     "output_type": "execute_result"
    },
    {
     "data": {
      "image/png": "[encoded data removed]",
      "text/plain": [
       "<Figure size 432x288 with 1 Axes>"
      ]
     },
     "metadata": {
      "needs_background": "light"
     },
     "output_type": "display_data"
    }
   ],
   "source": [
    "plt.bar(['Training MSE', 'Test MSE'], [MSE_train, MSE_test], width=0.5)"
   ]
  },
  {
   "cell_type": "markdown",
   "metadata": {},
   "source": [
    "## Extra Credit\n",
    "\n",
    "I think the following model could also be used: <br>\n",
    "- Price = w0 + w1 x Lot size + w2 x Lot size x Bedrooms \n",
    "\n",
    "Since the Lot size and the number of Bedrooms could have some dependency on each other. <br>\n",
    "Usually bigger houses should have more bedrooms. <br> \n",
    "The model above allows us to account for variable interaction between lotsize and bedroom."
   ]
  },
  {
   "cell_type": "code",
   "execution_count": 28,
   "metadata": {},
   "outputs": [],
   "source": [
    "# Create A, augmented array \n",
    "ones = np.ones(Y_train.size)\n",
    "combined = X1_train * X2_train\n",
    "\n",
    "A_train = np.vstack([ones, X1_train, combined]).T\n",
    "\n",
    "# Calculate weights\n",
    "w = np.linalg.lstsq(A_train, Y_train, rcond = None)[0]"
   ]
  },
  {
   "cell_type": "code",
   "execution_count": 29,
   "metadata": {},
   "outputs": [
    {
     "name": "stdout",
     "output_type": "stream",
     "text": [
      "Model\n",
      "Price = 39763.067035 + 0.188325 x Lot size + 1.780383 x Lot size x Bedrooms \n"
     ]
    }
   ],
   "source": [
    "print(\"Model\")\n",
    "print(\"Price = %f + %f x Lot size + %f x Lot size x Bedrooms \" % tuple(w))"
   ]
  },
  {
   "cell_type": "code",
   "execution_count": 30,
   "metadata": {},
   "outputs": [
    {
     "data": {
      "text/plain": [
       "466848422.7026237"
      ]
     },
     "execution_count": 30,
     "metadata": {},
     "output_type": "execute_result"
    }
   ],
   "source": [
    "# MSE for training data\n",
    "predicted = np.matmul(A_train, w)\n",
    "MSE_train = SSE(Y_train, predicted) / predicted.size\n",
    "MSE_train"
   ]
  },
  {
   "cell_type": "code",
   "execution_count": 31,
   "metadata": {},
   "outputs": [],
   "source": [
    "# MSE on test data \n",
    "ones = np.ones(Y_test.size)\n",
    "combined = X1_test * X2_test\n",
    "\n",
    "A_test = np.vstack([ones, X1_test, combined]).T"
   ]
  },
  {
   "cell_type": "code",
   "execution_count": 32,
   "metadata": {},
   "outputs": [
    {
     "data": {
      "text/plain": [
       "369455686.56682545"
      ]
     },
     "execution_count": 32,
     "metadata": {},
     "output_type": "execute_result"
    }
   ],
   "source": [
    "predicted = np.matmul(A_test, w)\n",
    "MSE_test = SSE(Y_test, predicted) / predicted.size\n",
    "MSE_test"
   ]
  },
  {
   "cell_type": "code",
   "execution_count": 33,
   "metadata": {},
   "outputs": [
    {
     "data": {
      "text/plain": [
       "<BarContainer object of 2 artists>"
      ]
     },
     "execution_count": 33,
     "metadata": {},
     "output_type": "execute_result"
    },
    {
     "data": {
      "image/png": "[encoded data removed]",
      "text/plain": [
       "<Figure size 432x288 with 1 Axes>"
      ]
     },
     "metadata": {
      "needs_background": "light"
     },
     "output_type": "display_data"
    }
   ],
   "source": [
    "plt.bar(['Training MSE', 'Test MSE'], [MSE_train, MSE_test], width=0.5)"
   ]
  },
  {
   "cell_type": "markdown",
   "metadata": {},
   "source": [
    "The difference in the MSEs is increased using the second model (Test SSE decreased). <br>\n",
    "But the difference is not very significant (differnce only by 1%).\n"
   ]
  }
 ],
 "metadata": {
  "kernelspec": {
   "display_name": "Python 3",
   "language": "python",
   "name": "python3"
  },
  "language_info": {
   "codemirror_mode": {
    "name": "ipython",
    "version": 3
   },
   "file_extension": ".py",
   "mimetype": "text/x-python",
   "name": "python",
   "nbconvert_exporter": "python",
   "pygments_lexer": "ipython3",
   "version": "3.7.4"
  }
 },
 "nbformat": 4,
 "nbformat_minor": 2
}
